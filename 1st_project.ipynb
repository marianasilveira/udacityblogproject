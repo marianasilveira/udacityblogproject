{
 "cells": [
  {
   "cell_type": "markdown",
   "metadata": {},
   "source": [
    "# The Stack Overflow Community: An Analysis Before and After Pandemic\n",
    "\n",
    "For this post, I was interestested in using Stack Overflow data from 2018, 2019, 2020 and 2021 for answering the following questions: \n",
    "\n",
    "1. Could the pandemic possibly have affected the Employment Status of programmers worldwide?\n",
    "\n",
    "2. Are there more programmers breaking into the field because of job opportunies created during the pandemic?\n",
    "\n",
    "3. Are the results for questions (1) and (2) different for respondents from countries whose economies were severely impaired?\n"
   ]
  },
  {
   "cell_type": "code",
   "execution_count": 70,
   "metadata": {},
   "outputs": [],
   "source": [
    "import numpy as np\n",
    "import pandas as pd\n",
    "import matplotlib.pyplot as plt\n",
    "from sklearn.linear_model import LinearRegression\n",
    "from sklearn.model_selection import train_test_split\n",
    "from sklearn.metrics import r2_score, mean_squared_error\n",
    "\n",
    "%matplotlib inline"
   ]
  },
  {
   "cell_type": "markdown",
   "metadata": {},
   "source": [
    "## Section 0: Declaration of functions and variables"
   ]
  },
  {
   "cell_type": "code",
   "execution_count": 71,
   "metadata": {},
   "outputs": [],
   "source": [
    "# Declare parameters\n",
    "# Paths\n",
    "paths = ['./survey_results_public_2018.csv','./survey_results_public_2019.csv',\n",
    "         './survey_results_public_2020.csv','./survey_results_public_2021.csv']\n",
    "\n",
    "# Years\n",
    "years = [2018,2019,2020,2021]\n",
    "\n",
    "# Column labels per year\n",
    "labels = [['Employment','YearsCoding','Salary','Country','Student'],\n",
    "          ['Employment','YearsCode','CompTotal','Country','Student'],\n",
    "          ['Employment','YearsCode','CompTotal','Country','MainBranch'],\n",
    "          ['Employment','YearsCode','CompTotal','Country','MainBranch']]\n",
    "\n",
    "# 'Employment' categoricals remap\n",
    "remapEmployment = {\n",
    "    'Employed full-time':'Full-time',\n",
    "    'Employed part-time':'Part-time',\n",
    "    'Not employed, and not looking for work':'Not employed',\n",
    "    'Not employed, but looking for work':'Not employed',\n",
    "    'Independent contractor, freelancer, or self-employed':'Self-employed',\n",
    "    'Retired':'Retired',\n",
    "    'Student':'Student',\n",
    "    'Student, full-time':'Student',\n",
    "    'Student, part-time':'Student'}\n",
    "\n",
    "# 'Employment' categoricals\n",
    "employmentLabels = list(set(remapEmployment.values()))\n",
    "\n",
    "# 'YearsCoding' categoricals \n",
    "binLabel = ['0-2 years','3-5 years','6-8 years',\n",
    "            '9-11 years','12-14 years','15-17 years',\n",
    "            '18-20 years','21-23 years','24-26 years',\n",
    "            '27-29 years','30 or more years']\n",
    "\n",
    "# Countries severely affected by the COVID-19 pandemic\n",
    "mostEconomicallyAffected = ['Brazil','Panama','Angola','Zambia','Namibia']\n",
    "\n",
    "# Empty dataframes for further analysis\n",
    "countEmployment = pd.DataFrame(index=employmentLabels)\n",
    "countYearsCoding = pd.DataFrame(index=binLabel)\n",
    "countEmploymentAffected = pd.DataFrame(index=employmentLabels)\n",
    "countYearsCodingAffected = pd.DataFrame(index=binLabel)"
   ]
  },
  {
   "cell_type": "code",
   "execution_count": 72,
   "metadata": {},
   "outputs": [],
   "source": [
    "# Declare functions\n",
    "# ImportDataframe\n",
    "def ImportDataframe(path):\n",
    "    '''\n",
    "    This function reads a dataframe from a specific directory\n",
    "    INPUT - path - string - path of the dataframe\n",
    "    OUTPUT - df - pandas dataframe\n",
    "            \n",
    "    '''    \n",
    "    df = pd.read_csv(path,low_memory=False)   \n",
    "    return df\n",
    "\n",
    "# CreateSubDataframe\n",
    "def CreateSubDataframe(df,label):\n",
    "    '''\n",
    "    This function creates a data subset from specific columns\n",
    "    INPUT - df - pandas dataframe\n",
    "          - label - list of strings - desired columns' labels\n",
    "    OUTPUT - df - pandas dataframe\n",
    "            \n",
    "    '''    \n",
    "    try:\n",
    "        df = df[label]   \n",
    "    except:\n",
    "        return df\n",
    "    return df\n",
    "\n",
    "# RenameColumn\n",
    "def RenameColumn(df,label):\n",
    "    '''\n",
    "    This function renames specific columns\n",
    "    INPUT - df - pandas dataframe\n",
    "          - label - list of strings - old columns' labels\n",
    "    OUTPUT - df - pandas dataframe\n",
    "            \n",
    "    '''  \n",
    "    df.rename(columns={label[0]: 'Employment', label[1]: 'YearsCoding', label[2]: 'Salary'},inplace=True)\n",
    "    return df\n",
    "\n",
    "# CreateYearColumn\n",
    "def CreateYearColumn(df,year):\n",
    "    '''\n",
    "    This function creates a new column named Year\n",
    "    INPUT - df - pandas dataframe\n",
    "          - year - list of integers\n",
    "    OUTPUT - df - pandas dataframe\n",
    "            \n",
    "    '''\n",
    "    df['Year'] = year\n",
    "    return df\n",
    "\n",
    "# dropNanColumns\n",
    "def dropNanColumns(df):\n",
    "    '''\n",
    "    This function drop the columns completely filled with NaN values, in case there is any\n",
    "    INPUT - df - pandas dataframe\n",
    "          - year - list of integers\n",
    "    OUTPUT - df - pandas dataframe\n",
    "            \n",
    "    '''\n",
    "    df = df.dropna(how='all', axis=1)  \n",
    "    return df\n",
    "\n",
    "# PlotSpecs\n",
    "def PlotSpecs(SMALL_SIZE,MEDIUM_SIZE,BIGGER_SIZE):\n",
    "    '''\n",
    "    This function sets the plot specifications\n",
    "    INPUT - SMALL_SIZE - integer - small font size\n",
    "          - MEDIUM_SIZE - integer - medium font size\n",
    "          - BIGGER_SIZE - integer - big font size\n",
    "    OUTPUT - colorArray - list \n",
    "            \n",
    "    '''\n",
    "    plt.rc('font', size=SMALL_SIZE)          # controls default text sizes\n",
    "    plt.rc('axes', titlesize=BIGGER_SIZE)     # fontsize of the axes title\n",
    "    plt.rc('axes', labelsize=MEDIUM_SIZE)    # fontsize of the x and y labels\n",
    "    plt.rc('xtick', labelsize=SMALL_SIZE)    # fontsize of the tick labels\n",
    "    plt.rc('ytick', labelsize=SMALL_SIZE)    # fontsize of the tick labels\n",
    "    plt.rc('legend', fontsize=SMALL_SIZE)    # legend fontsize\n",
    "    plt.rc('figure', titlesize=BIGGER_SIZE)  # fontsize of the figure title\n",
    "    colorArray = [plt.cm.tab20(0),plt.cm.tab20(6),plt.cm.tab20(13),plt.cm.tab20(19)]\n",
    "    return colorArray\n",
    "\n",
    "# IsAffectedCountry\n",
    "def IsAffectedCountry(country):\n",
    "    '''\n",
    "    This function returns 1 if 'country' is in 'mostEconomicallyAffected', and 0 otherwise\n",
    "    INPUT - country - string\n",
    "    OUTPUT - bool \n",
    "            \n",
    "    '''\n",
    "    if country in mostEconomicallyAffected: return 1\n",
    "    else: return 0\n",
    "\n",
    "# Num2Bin\n",
    "def Num2Bin(string):\n",
    "    '''\n",
    "    This function converters a string to a predefined set of bins for creation of a histogram.\n",
    "    INPUT - yearsCoding - string \n",
    "    OUTPUT - string - bin \n",
    "    '''\n",
    "    try:\n",
    "        num = int(string) \n",
    "        if (num <= 2):\n",
    "            return '0-2 years'\n",
    "        elif ((num >= 3) & (num <= 5)):\n",
    "            return '3-5 years'\n",
    "        elif ((num >= 6) & (num <= 8)):\n",
    "            return '6-8 years'\n",
    "        elif ((num >= 9) & (num <= 11)):\n",
    "            return '9-11 years'\n",
    "        elif ((num >= 12) & (num <= 14)):\n",
    "            return '12-14 years'\n",
    "        elif ((num >= 13) & (num <= 17)):\n",
    "            return '15-17 years'\n",
    "        elif ((num >= 18) & (num <= 20)):\n",
    "            return '18-20 years'  \n",
    "        elif ((num >= 21) & (num <= 23)):\n",
    "            return '21-23 years'  \n",
    "        elif ((num >= 24) & (num <= 26)):\n",
    "            return '24-26 years' \n",
    "        elif ((num >= 27) & (num <= 29)):\n",
    "            return '27-29 years' \n",
    "        else:\n",
    "            return '30 or more years' \n",
    "    except:\n",
    "        if (string == 'Less than 1 year'):\n",
    "            return '0-2 years'\n",
    "        elif (string == 'More than 50 years'):\n",
    "            return '30 or more years'\n",
    "        else:\n",
    "            return string"
   ]
  },
  {
   "cell_type": "markdown",
   "metadata": {},
   "source": [
    "## Section 1: Data Understanding"
   ]
  },
  {
   "cell_type": "markdown",
   "metadata": {},
   "source": [
    "### Gather Data\n",
    "Here, data is imported from four Stack Overflow surveys perfomed in 2018, 2019, 2020 and 2021."
   ]
  },
  {
   "cell_type": "code",
   "execution_count": 73,
   "metadata": {},
   "outputs": [],
   "source": [
    "# Load dataframes\n",
    "df = [ImportDataframe(path) for path in paths] "
   ]
  },
  {
   "cell_type": "markdown",
   "metadata": {},
   "source": [
    "## Section 2: Prepare Data\n",
    "In this section, data is prepared and cleaned. \n",
    "\n",
    "Preparation involves:\n",
    "1. Remove columns that will not be analysed \n",
    "2. Rename columns for uniformity\n",
    "3. Create a *'Year'* column\n",
    "5. Merge dataframes into a single dataframe\n",
    "6. Remap categoricals in *'Employment'*\n",
    "7. Ramap *'YearsCoding'* into bins\n",
    "8. Creat a column with booleans: 1 if *'Country'* is in *'mostEconomicallyAffected'*, 0 otherwise \n",
    "9. Create new dataframe containing only respondents from *'mostEconomicallyAffected'*.\n",
    "\n",
    "Cleaning involves:\n",
    "1. Drop columns completely filled with NaN values (if any)\n",
    "2. Impute rows with missing values for column *'Employment'*\n",
    "3. Impute rows with missing values for column *'YearsCoding'*\n",
    "\n",
    "Imputation was chosen because:\n",
    "* *'Employment'* is a categorical column with a small percentage of missing values (1.78 %). For this reason, missing values were imputed and replaced by the mode.\n",
    "* In 2021, Stack Overflow added the field 'I prefer not to say' in 'Employment' (1.07 % of occurrence),  which was also imputed following the same principle. This was done to improve data uniformity between the years.\n",
    "* *'Years coding'* is also a categorical column with a small percentage of missing values (4.33 %). The same approach was utilized."
   ]
  },
  {
   "cell_type": "code",
   "execution_count": 84,
   "metadata": {},
   "outputs": [
    {
     "name": "stdout",
     "output_type": "stream",
     "text": [
      "Missing in Employment: 1.78 %\n",
      "NTD in Employment: 1.07 %\n",
      "Missing in YearsCoding: 4.33 %\n"
     ]
    },
    {
     "data": {
      "text/html": [
       "<div>\n",
       "<style scoped>\n",
       "    .dataframe tbody tr th:only-of-type {\n",
       "        vertical-align: middle;\n",
       "    }\n",
       "\n",
       "    .dataframe tbody tr th {\n",
       "        vertical-align: top;\n",
       "    }\n",
       "\n",
       "    .dataframe thead th {\n",
       "        text-align: right;\n",
       "    }\n",
       "</style>\n",
       "<table border=\"1\" class=\"dataframe\">\n",
       "  <thead>\n",
       "    <tr style=\"text-align: right;\">\n",
       "      <th></th>\n",
       "      <th>Employment</th>\n",
       "      <th>YearsCoding</th>\n",
       "      <th>Salary</th>\n",
       "      <th>Country</th>\n",
       "      <th>Student</th>\n",
       "      <th>Year</th>\n",
       "      <th>MainBranch</th>\n",
       "      <th>AffectedCountry</th>\n",
       "    </tr>\n",
       "  </thead>\n",
       "  <tbody>\n",
       "    <tr>\n",
       "      <th>0</th>\n",
       "      <td>Part-time</td>\n",
       "      <td>3-5 years</td>\n",
       "      <td>NaN</td>\n",
       "      <td>Kenya</td>\n",
       "      <td>No</td>\n",
       "      <td>2018</td>\n",
       "      <td>NaN</td>\n",
       "      <td>0</td>\n",
       "    </tr>\n",
       "    <tr>\n",
       "      <th>1</th>\n",
       "      <td>Full-time</td>\n",
       "      <td>30 or more years</td>\n",
       "      <td>51000</td>\n",
       "      <td>United Kingdom</td>\n",
       "      <td>No</td>\n",
       "      <td>2018</td>\n",
       "      <td>NaN</td>\n",
       "      <td>0</td>\n",
       "    </tr>\n",
       "    <tr>\n",
       "      <th>2</th>\n",
       "      <td>Full-time</td>\n",
       "      <td>24-26 years</td>\n",
       "      <td>NaN</td>\n",
       "      <td>United States</td>\n",
       "      <td>No</td>\n",
       "      <td>2018</td>\n",
       "      <td>NaN</td>\n",
       "      <td>0</td>\n",
       "    </tr>\n",
       "    <tr>\n",
       "      <th>3</th>\n",
       "      <td>Full-time</td>\n",
       "      <td>18-20 years</td>\n",
       "      <td>NaN</td>\n",
       "      <td>United States</td>\n",
       "      <td>No</td>\n",
       "      <td>2018</td>\n",
       "      <td>NaN</td>\n",
       "      <td>0</td>\n",
       "    </tr>\n",
       "    <tr>\n",
       "      <th>4</th>\n",
       "      <td>Full-time</td>\n",
       "      <td>6-8 years</td>\n",
       "      <td>260000</td>\n",
       "      <td>South Africa</td>\n",
       "      <td>Yes, part-time</td>\n",
       "      <td>2018</td>\n",
       "      <td>NaN</td>\n",
       "      <td>0</td>\n",
       "    </tr>\n",
       "  </tbody>\n",
       "</table>\n",
       "</div>"
      ],
      "text/plain": [
       "  Employment       YearsCoding  Salary         Country         Student  Year  \\\n",
       "0  Part-time         3-5 years     NaN           Kenya              No  2018   \n",
       "1  Full-time  30 or more years   51000  United Kingdom              No  2018   \n",
       "2  Full-time       24-26 years     NaN   United States              No  2018   \n",
       "3  Full-time       18-20 years     NaN   United States              No  2018   \n",
       "4  Full-time         6-8 years  260000    South Africa  Yes, part-time  2018   \n",
       "\n",
       "  MainBranch  AffectedCountry  \n",
       "0        NaN                0  \n",
       "1        NaN                0  \n",
       "2        NaN                0  \n",
       "3        NaN                0  \n",
       "4        NaN                0  "
      ]
     },
     "execution_count": 84,
     "metadata": {},
     "output_type": "execute_result"
    }
   ],
   "source": [
    "# Create data subsets\n",
    "df = [CreateSubDataframe(df[i],labels[i]) for i in range(len(years))] \n",
    "\n",
    "# Rename columns\n",
    "df = [RenameColumn(df[i],labels[i]) for i in range(len(years))]\n",
    "\n",
    "# Create 'year' column\n",
    "df = [CreateYearColumn(df[i],years[i]) for i in range(len(years))]\n",
    "\n",
    "# Not necessary: Drop columns with all NaN values\n",
    "df = [dropNanColumns(df[i]) for i in range(len(years))]\n",
    "\n",
    "# Merge into a single dataframe\n",
    "newDf = pd.concat([df[0],df[1],df[2],df[3]],sort=False)\n",
    "\n",
    "# Dataframe visualization\n",
    "# newDf.head()\n",
    "\n",
    "# Calcule percetage of missing values\n",
    "employmentMissing = newDf.loc[pd.isna(newDf['Employment'])==True].shape[0]*100/newDf.shape[0]\n",
    "print(\"Missing in Employment: {v:.2f} %\".format(v=employmentMissing))\n",
    "\n",
    "employmentNTD = newDf.loc[newDf['Employment']=='I prefer not to say'].shape[0]*100/newDf.loc[newDf['Year']==2021].shape[0]\n",
    "print(\"NTD in Employment: {v:.2f} %\".format(v=employmentNTD))\n",
    "\n",
    "yearsCodingMissing = newDf.loc[pd.isna(newDf['YearsCoding'])==True].shape[0]*100/newDf.shape[0]\n",
    "print(\"Missing in YearsCoding: {v:.2f} %\".format(v=yearsCodingMissing))\n",
    "\n",
    "# Impute missing values in 'Employment' and 'YearsCoding'\n",
    "newDf['Employment'].fillna(value=newDf['Employment'].mode()[0],inplace=True)\n",
    "newDf['YearsCoding'].fillna(value=newDf['YearsCoding'].mode()[0],inplace=True)\n",
    "\n",
    "# Impute 'I prefer not to say' in 'Employment'\n",
    "newDf['Employment'].replace({'I prefer not to say':newDf['Employment'].mode()[0]},inplace=True)\n",
    "\n",
    "# Rename categoricals in 'Employment' for uniformity and plot shortening\n",
    "#newDf['Employment'] = newDf['Employment'].astype('category')\n",
    "newDf['Employment'].replace(remapEmployment,inplace=True)\n",
    "\n",
    "# Map bins for uniformity\n",
    "newDf['YearsCoding'] = newDf['YearsCoding'].apply(Num2Bin)\n",
    "\n",
    "# Create AffectedCountry flag\n",
    "newDf['AffectedCountry'] = newDf['Country'].apply(IsAffectedCountry)\n",
    "newDfSubset = newDf.loc[newDf['AffectedCountry']==1]\n",
    "\n",
    "# Dataframe visualization\n",
    "newDf.head()"
   ]
  },
  {
   "cell_type": "markdown",
   "metadata": {},
   "source": [
    "## Section 3: Evaluation\n",
    "The proposed questions are evaluated and answered in this section. For this purpose, 3 main steps are followed: Analysis, Visualization and Conclusion.\n",
    "\n",
    "### Question 1: \n",
    "> Could the pandemic possibly have affected the Employment Status of programmers worldwide?\n",
    "\n",
    "**Analysis**: Analysis of column 'Employment'. Count respondents per categorical data for each year (%). **Visualization**: Create a subplot for each year of survey."
   ]
  },
  {
   "cell_type": "code",
   "execution_count": 75,
   "metadata": {
    "scrolled": false
   },
   "outputs": [
    {
     "data": {
      "image/png": "[encoded data removed]",
      "text/plain": [
       "<matplotlib.figure.Figure at 0x7f1b523d0e10>"
      ]
     },
     "metadata": {
      "needs_background": "light"
     },
     "output_type": "display_data"
    }
   ],
   "source": [
    "# Set plot specs\n",
    "colorArray = PlotSpecs(10,12,14)\n",
    "\n",
    "# Set subplot\n",
    "fig, axs = plt.subplots(1,4)\n",
    "\n",
    "# Loop for (1) Analysis and (2) Visualization\n",
    "for i in range(len(years)):\n",
    "    # Respondents per categorical\n",
    "    ax = (newDf.loc[newDf['Year'] == years[i]]['Employment'].value_counts().sort_index()*100\n",
    "          /newDf.loc[newDf['Year'] == years[i]].shape[0]) \n",
    "    \n",
    "    # Save results\n",
    "    countEmployment[years[i]] = ax \n",
    "    \n",
    "    # Plot figures\n",
    "    ax.plot(kind=\"bar\",ax=fig.get_axes()[i],color=colorArray[i])\n",
    "    fig.get_axes()[i].set_title(str(years[i]))\n",
    "    fig.get_axes()[i].set_ylim(0,100)\n",
    "    fig.get_axes()[i].set_ylabel('Percentage (%)')\n",
    "    fig.get_axes()[i].set_yticks((0,25,50,75,100))\n",
    "    fig.get_axes()[i].grid(axis = 'x', color = 'gray', alpha = 0.4, linestyle = '--', linewidth = 0.5)\n",
    "\n",
    "# Adjust subplots    \n",
    "plt.subplots_adjust(left=0.1,\n",
    "                    bottom=0.5,\n",
    "                    right=1.9,\n",
    "                    top=0.85,\n",
    "                    wspace=0.4,\n",
    "                    hspace=0.7)\n"
   ]
  },
  {
   "cell_type": "markdown",
   "metadata": {},
   "source": [
    "**Conclusion**: The number of full-time and part-time employed professionals decreased in 2021 comperared to other years. On the other hand, the number of unemployed individuals is smaller in 2020 in comparison with 2018 and 2019. This probably stems from the fact that Stack Overflow only added the ‘Student’ option in 2020 and, before that, students probably addressed themselves as ‘unemployed’. But, when we have a look at the increase of students from 2020 to 2021 , the following question can be raised: were there more people trying to break into the field in 2021?"
   ]
  },
  {
   "cell_type": "markdown",
   "metadata": {},
   "source": [
    "### Question 2: \n",
    "> Are there more programmers breaking into the field because of job opportunies created during the pandemic?\n",
    "\n",
    "**Analysis**: Analysis of column 'Years Coding'. Count respondents per categorical data for each year (%). **Visualization**: Create a subplot for each year of survey."
   ]
  },
  {
   "cell_type": "code",
   "execution_count": 76,
   "metadata": {},
   "outputs": [
    {
     "data": {
      "image/png": "[encoded data removed]",
      "text/plain": [
       "<matplotlib.figure.Figure at 0x7f1b58f4fe80>"
      ]
     },
     "metadata": {
      "needs_background": "light"
     },
     "output_type": "display_data"
    }
   ],
   "source": [
    "# Set subplot\n",
    "fig, axs = plt.subplots(1,4)\n",
    "\n",
    "# Loop for (1) Analysis and (2) Visualization\n",
    "for i in range(len(years)):\n",
    "    # Respondents per categorical\n",
    "    ax = (newDf.loc[newDf['Year'] == years[i]]['YearsCoding'].value_counts()*100\n",
    "          /newDf.loc[newDf['Year'] == years[i]].shape[0]).reindex(index = binLabel)\n",
    "    \n",
    "    # Save results\n",
    "    countYearsCoding[years[i]] = ax # Save results\n",
    "    \n",
    "    # Plot figures\n",
    "    ax.plot(kind=\"bar\",ax=fig.get_axes()[i],color=colorArray[i])\n",
    "    fig.get_axes()[i].set_title(str(years[i]))\n",
    "    fig.get_axes()[i].set_ylim(0,30)\n",
    "    fig.get_axes()[i].set_ylabel('Percentage (%)')\n",
    "    fig.get_axes()[i].get_xaxis().set_visible(True)\n",
    "    fig.get_axes()[i].set_xticklabels(['0-2','3-5','6-8','9-11',\n",
    "                                       '12-14','15-17','18-20','21-23',\n",
    "                                       '24-26','27-29','+30'])\n",
    "    fig.get_axes()[i].grid(axis = 'x', color = 'gray', alpha = 0.4, linestyle = '--', linewidth = 0.5)\n",
    "    \n",
    "plt.subplots_adjust(left=0.1,\n",
    "                    bottom=0.5,\n",
    "                    right=2.0,\n",
    "                    top=0.85,\n",
    "                    wspace=0.4,\n",
    "                    hspace=0.7)\n"
   ]
  },
  {
   "cell_type": "markdown",
   "metadata": {},
   "source": [
    "**Conclusion**: The percentage of people coding for zero to two years decreased in 2019, showing small deviations in 2020 and 2021. It has never surpressed its maximum value recorded in 2018. Therefore, this evidence points toward denying the proposed question."
   ]
  },
  {
   "cell_type": "markdown",
   "metadata": {},
   "source": [
    "### Question 3: \n",
    "> Would the conclusions for questions (1) and (2) be different if only respondents from countries severely impaired were analysed?\n",
    "\n",
    "#### Employment Status Analysis\n",
    "**Analysis**: Percentage difference between respondants across the globe and respondents from Brazil, Panama, Angola, Zambia, and Namibia. **Visualization**: Vertical bars."
   ]
  },
  {
   "cell_type": "code",
   "execution_count": 77,
   "metadata": {},
   "outputs": [],
   "source": [
    "#newDfSubset.loc[newDfSubset['Year'] == 2021].head()"
   ]
  },
  {
   "cell_type": "code",
   "execution_count": 78,
   "metadata": {},
   "outputs": [
    {
     "data": {
      "image/png": "[encoded data removed]",
      "text/plain": [
       "<matplotlib.figure.Figure at 0x7f1b56391eb8>"
      ]
     },
     "metadata": {
      "needs_background": "light"
     },
     "output_type": "display_data"
    }
   ],
   "source": [
    "# Create figure\n",
    "fig = plt.figure(figsize=(6,8))\n",
    "\n",
    "# Loop for (1) Analysis and (2) Visualization\n",
    "for i in range(len(years)):\n",
    "    # Respondents per categorical\n",
    "    ax = (newDfSubset.loc[newDfSubset['Year'] == years[i]]['Employment'].value_counts().sort_index()*100\n",
    "          /newDfSubset.loc[newDfSubset['Year'] == years[i]].shape[0])\n",
    "    \n",
    "    # Save results\n",
    "    countEmploymentAffected[years[i]] = ax\n",
    "\n",
    "# Set NaN values to zero (if any)\n",
    "countEmploymentAffected.fillna(value=0,inplace=True) \n",
    "\n",
    "# Calculate difference\n",
    "affectedDiff = countEmploymentAffected.subtract(countEmployment)\n",
    "\n",
    "# Plot figure\n",
    "affectedDiff.plot.barh(ax=plt.axes(),colormap=plt.cm.tab20)\n",
    "plt.xlabel('Difference (%)')\n",
    "plt.title('Highly Affected Countries: Employment Status',fontsize=13)\n",
    "plt.grid(axis = 'x', color = 'gray', alpha = 0.4, linestyle = '--', linewidth = 0.5)"
   ]
  },
  {
   "cell_type": "markdown",
   "metadata": {},
   "source": [
    "**Conclusion**: Considering countries that had their economies severely affected, in 2021 there were more full-time and self-employed professionals, and less students. This possibly indicates more national job opportunities or more programmers applying to remote international vacancies during the pandemic and post-pandemic periods."
   ]
  },
  {
   "cell_type": "markdown",
   "metadata": {},
   "source": [
    "#### Years Coding Analysis\n",
    "**Analysis**: Percentage difference between respondants across the globe and respondents from Brazil, Panama, Angola, Zambia, and Namibia. **Visualization**: Vertical bars."
   ]
  },
  {
   "cell_type": "code",
   "execution_count": 79,
   "metadata": {},
   "outputs": [
    {
     "data": {
      "image/png": "[encoded data removed]",
      "text/plain": [
       "<matplotlib.figure.Figure at 0x7f1b517fd8d0>"
      ]
     },
     "metadata": {
      "needs_background": "light"
     },
     "output_type": "display_data"
    }
   ],
   "source": [
    "# Create figure\n",
    "fig = plt.figure(figsize=(6,8))\n",
    "\n",
    "# Loop for (1) Analysis and (2) Visualization\n",
    "for i in range(len(years)):\n",
    "    ax = (newDfSubset.loc[newDfSubset['Year'] == years[i]]['YearsCoding'].\n",
    "          value_counts()*100/newDfSubset.loc[newDfSubset['Year'] == years[i]].shape[0]) \n",
    "    # Save results\n",
    "    countYearsCodingAffected[years[i]] = ax\n",
    "\n",
    "# Set NaN values to zero (if any)\n",
    "countYearsCodingAffected.fillna(value=0,inplace=True)\n",
    "\n",
    "# Calculate difference\n",
    "affectedDiff = countYearsCodingAffected.subtract(countYearsCoding)\n",
    "\n",
    "# Plot figure   \n",
    "p = affectedDiff.plot.barh(ax=plt.axes(),colormap=plt.cm.tab20)\n",
    "plt.xlabel('Difference (%)')\n",
    "plt.title('Highly Affected Countries: Years Coding',fontsize=13)\n",
    "plt.grid(axis = 'x', color = 'gray', alpha = 0.4, linestyle = '--', linewidth = 0.5)\n"
   ]
  },
  {
   "cell_type": "markdown",
   "metadata": {},
   "source": [
    "**Conclusion**: Less individuals have been recently trying to break into the field compared to the global-scale survey. In addition, Brazil, Panama, Angola, Zambia and Namibia have more developers that have been coding for 6–17 years when compared to the rest of the world."
   ]
  },
  {
   "cell_type": "markdown",
   "metadata": {},
   "source": [
    "### Final Conclusion: \n",
    "And what can we conclude from the aforementioned analysis? Well, certainly it do not aim to provide an ultimate conclusion, but to show the behaviour of data. Standard deviations are completely normal and can be triggered by a vast range of events. Therefore, further statistical analysis are required to correlate the results to the COVID-19 pandemic.\n",
    "\n",
    "However, according to the Stack Overflow data, the number of full-time employees decreased in 2021. On the other hand, taking into account only countries whose economies were severely impaired, data indicates that there were more full-time employed and self-employed professionals in 2021 than in the previous years, which could possibly indicate an increse of local job oportunities during and post pandemic."
   ]
  },
  {
   "cell_type": "code",
   "execution_count": null,
   "metadata": {},
   "outputs": [],
   "source": []
  }
 ],
 "metadata": {
  "kernelspec": {
   "display_name": "Python 3",
   "language": "python",
   "name": "python3"
  },
  "language_info": {
   "codemirror_mode": {
    "name": "ipython",
    "version": 3
   },
   "file_extension": ".py",
   "mimetype": "text/x-python",
   "name": "python",
   "nbconvert_exporter": "python",
   "pygments_lexer": "ipython3",
   "version": "3.6.3"
  }
 },
 "nbformat": 4,
 "nbformat_minor": 2
}
